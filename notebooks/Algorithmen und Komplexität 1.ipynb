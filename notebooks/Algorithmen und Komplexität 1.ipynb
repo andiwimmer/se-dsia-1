{
 "cells": [
  {
   "cell_type": "code",
   "execution_count": 17,
   "metadata": {},
   "outputs": [],
   "source": [
    "import random as rand\n",
    "import time"
   ]
  },
  {
   "cell_type": "markdown",
   "metadata": {},
   "source": [
    "# Benchmarking Beispiel"
   ]
  },
  {
   "cell_type": "code",
   "execution_count": 12,
   "metadata": {},
   "outputs": [
    {
     "name": "stdout",
     "output_type": "stream",
     "text": [
      "200\n"
     ]
    }
   ],
   "source": [
    "def get_sum(numbers):\n",
    "    result = 0\n",
    "\n",
    "    for number in numbers:\n",
    "        result += number\n",
    "\n",
    "    return result\n",
    "\n",
    "numbers = [87, 4, 29, 50, 24, 6]\n",
    "print(get_sum(numbers))  "
   ]
  },
  {
   "cell_type": "markdown",
   "metadata": {},
   "source": [
    "## Benchmarking Beispiel 1"
   ]
  },
  {
   "cell_type": "code",
   "execution_count": 18,
   "metadata": {},
   "outputs": [],
   "source": [
    "n = 1000000\n",
    "dur = []\n",
    "\n",
    "for i in range(10):\n",
    "    numbers = [int(10000 * rand.random()) for j in range(n)]\n",
    "    start = time.time() \n",
    "    res = get_sum(numbers)\n",
    "    end = time.time() \n",
    "    dur.append(int(end - start))"
   ]
  },
  {
   "cell_type": "markdown",
   "metadata": {},
   "source": [
    "## Benchmarking Beispiel 2"
   ]
  },
  {
   "cell_type": "code",
   "execution_count": null,
   "metadata": {},
   "outputs": [],
   "source": [
    "dur = []\n",
    "\n",
    "for n in range(1000000, 31000000, 1000000):\n",
    "    numbers = [int(10000 * rand.random()) for i in range(n)]\n",
    "    start = time.time() \n",
    "    res = get_sum(numbers)\n",
    "    end = time.time() \n",
    "    dur.append(int(end - start))"
   ]
  },
  {
   "cell_type": "markdown",
   "metadata": {},
   "source": [
    "# Sortieralgorithmen"
   ]
  },
  {
   "cell_type": "markdown",
   "metadata": {},
   "source": [
    "## Selection sort"
   ]
  },
  {
   "cell_type": "code",
   "execution_count": 3,
   "metadata": {},
   "outputs": [
    {
     "name": "stdout",
     "output_type": "stream",
     "text": [
      "[1, 2, 3, 4, 7, 9, 10, 11, 300]\n"
     ]
    }
   ],
   "source": [
    "def selection_sort(list=[]):\n",
    "    selection_index = 0                                \n",
    "    while selection_index < len(list):                 \n",
    "        min_index = selection_index                    \n",
    "        tmp_index = selection_index + 1                \n",
    "\n",
    "        while tmp_index < len(list):                   \n",
    "            if list[tmp_index] < list[min_index]:\n",
    "                min_index = tmp_index\n",
    "            tmp_index += 1\n",
    "\n",
    "        tmp = list[selection_index]\n",
    "        list[selection_index] = list[min_index]\n",
    "        list[min_index] = tmp\n",
    "        selection_index += 1    \n",
    "    return list\n",
    "\n",
    "list = [10, 4, 9, 3, 7, 1, 2, 11, 300]\n",
    "print(selection_sort(list))"
   ]
  },
  {
   "cell_type": "markdown",
   "metadata": {},
   "source": [
    "## Bubble sort"
   ]
  },
  {
   "cell_type": "code",
   "execution_count": 4,
   "metadata": {},
   "outputs": [
    {
     "name": "stdout",
     "output_type": "stream",
     "text": [
      "[1, 2, 3, 4, 7, 9, 10, 11, 300]\n"
     ]
    }
   ],
   "source": [
    "def bubble_sort(list):\n",
    "    n = len(list) - 1\n",
    "    while n > 1:\n",
    "        index = 0\n",
    "        while index < n:\n",
    "            if list[index] > list[index + 1]:\n",
    "                tmp = list[index]\n",
    "                list[index] = list[index + 1]\n",
    "                list[index + 1] = tmp\n",
    "            index += 1\n",
    "        n -= 1\n",
    "    return list\n",
    "\n",
    "list = [10, 4, 9, 3, 7, 1, 2, 11, 300]\n",
    "print(bubble_sort(list))"
   ]
  },
  {
   "cell_type": "markdown",
   "metadata": {},
   "source": [
    "## Insertion sort"
   ]
  },
  {
   "cell_type": "code",
   "execution_count": 5,
   "metadata": {},
   "outputs": [
    {
     "name": "stdout",
     "output_type": "stream",
     "text": [
      "[1, 2, 3, 4, 7, 9, 10, 11, 300]\n"
     ]
    }
   ],
   "source": [
    "def insertion_sort(list):\n",
    "    boundary_index = 1\n",
    "    while boundary_index < len(list):\n",
    "        tmp_index = boundary_index\n",
    "        boundary_value = list[boundary_index]\n",
    "\n",
    "        while tmp_index > 0 and boundary_value < list[tmp_index - 1]:\n",
    "            tmp_index -= 1\n",
    "\n",
    "        del list[boundary_index]\n",
    "        list.insert(tmp_index, boundary_value)\n",
    "        boundary_index += 1\n",
    "    return list\n",
    "\n",
    "list = [10, 4, 9, 3, 7, 1, 2, 11, 300]\n",
    "print(insertion_sort(list))"
   ]
  },
  {
   "cell_type": "markdown",
   "metadata": {},
   "source": [
    "## Quicksort"
   ]
  },
  {
   "cell_type": "code",
   "execution_count": 11,
   "metadata": {},
   "outputs": [
    {
     "name": "stdout",
     "output_type": "stream",
     "text": [
      "[1, 2, 3, 4, 7, 9, 10, 11, 300]\n"
     ]
    }
   ],
   "source": [
    "def quicksort(values):\n",
    "    if len(values) <= 1:\n",
    "        return values\n",
    "\n",
    "    pivot = values.pop()\n",
    "\n",
    "    left = [num for num in values if num <= pivot]\n",
    "    right = [num for num in values if num > pivot]\n",
    "\n",
    "    return quicksort(left) + [pivot] + quicksort(right)\n",
    "\n",
    "list = [10, 4, 9, 3, 7, 1, 2, 11, 300]\n",
    "print(quicksort(list))"
   ]
  },
  {
   "cell_type": "markdown",
   "metadata": {},
   "source": [
    "# Einfache Schlüsselwort Suche"
   ]
  },
  {
   "cell_type": "code",
   "execution_count": 10,
   "metadata": {},
   "outputs": [
    {
     "name": "stdout",
     "output_type": "stream",
     "text": [
      "[6, 81, 452, 568]\n"
     ]
    }
   ],
   "source": [
    "def naive_search(keyword, text):\n",
    "    matches = []\n",
    "    m = len(keyword)\n",
    "    n = len(text)\n",
    "\n",
    "    for i in range(n-m+1):\n",
    "        found = True\n",
    "        for j in range(m):\n",
    "            if text[i+j] != keyword[j]:\n",
    "                found = False\n",
    "                break\n",
    "        if j == m-1 and found:\n",
    "            matches.append(i)\n",
    "    return matches\n",
    "\n",
    "text = \"Lorem Ipsum is simply dummy text of the printing and typesetting industry. Lorem Ipsum has been the industry's standard dummy text ever since the 1500s, when an unknown printer took a galley of type and scrambled it to make a type specimen book. It has survived not only five centuries, but also the leap into electronic typesetting, remaining essentially unchanged. It was popularised in the 1960s with the release of Letraset sheets containing Lorem Ipsum passages, and more recently with desktop publishing software like Aldus PageMaker including versions of Lorem Ipsum.\"\n",
    "keyword = \"ipsum\"\n",
    "\n",
    "print(naive_search(keyword, text.lower()))"
   ]
  },
  {
   "cell_type": "markdown",
   "metadata": {},
   "source": [
    "# Regular expression"
   ]
  },
  {
   "cell_type": "code",
   "execution_count": 6,
   "metadata": {},
   "outputs": [
    {
     "name": "stdout",
     "output_type": "stream",
     "text": [
      "Tag: 06, Monat: 07, Jahr: 2020\n"
     ]
    }
   ],
   "source": [
    "import re\n",
    "\n",
    "test_string = \"am 06.07.2020 fahren wir in Urlaub\"\n",
    "match = re.search(\"(\\d{2})\\.(\\d{2})\\.(\\d{4})\", test_string)\n",
    "\n",
    "if match:\n",
    "    day = match.group(1)\n",
    "    month = match.group(2)\n",
    "    year = match.group(3)\n",
    "\n",
    "print(\"Tag: {}, Monat: {}, Jahr: {}\".format(day, month, year))"
   ]
  },
  {
   "cell_type": "code",
   "execution_count": null,
   "metadata": {},
   "outputs": [],
   "source": []
  }
 ],
 "metadata": {
  "kernelspec": {
   "display_name": "Python 3",
   "language": "python",
   "name": "python3"
  },
  "language_info": {
   "codemirror_mode": {
    "name": "ipython",
    "version": 3
   },
   "file_extension": ".py",
   "mimetype": "text/x-python",
   "name": "python",
   "nbconvert_exporter": "python",
   "pygments_lexer": "ipython3",
   "version": "3.8.3"
  }
 },
 "nbformat": 4,
 "nbformat_minor": 4
}
