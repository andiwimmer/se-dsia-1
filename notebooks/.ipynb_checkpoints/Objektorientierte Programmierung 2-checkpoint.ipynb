{
 "cells": [
  {
   "cell_type": "code",
   "execution_count": 1,
   "metadata": {},
   "outputs": [],
   "source": [
    " import tkinter as tk  "
   ]
  },
  {
   "cell_type": "markdown",
   "metadata": {},
   "source": [
    "# Tkinter"
   ]
  },
  {
   "cell_type": "markdown",
   "metadata": {},
   "source": [
    "## Hauptfenster"
   ]
  },
  {
   "cell_type": "code",
   "execution_count": 2,
   "metadata": {},
   "outputs": [],
   "source": [
    "window = tk.Tk()\n",
    "\n",
    "window.title(\"Erstes Tkinter Beispiel\")\n",
    "window.geometry(\"500x200\")\n",
    "window.resizable(False, False)\n",
    "\n",
    "window.mainloop()"
   ]
  },
  {
   "cell_type": "markdown",
   "metadata": {},
   "source": [
    "## Erzeugung eines Widgets"
   ]
  },
  {
   "cell_type": "code",
   "execution_count": 3,
   "metadata": {},
   "outputs": [],
   "source": [
    "window = tk.Tk()\n",
    "\n",
    "button = tk.Button(window, text=\"Hello World\", fg=\"white\", bg=\"red\", padx=30, pady=10)\n",
    "button.pack()\n",
    "\n",
    "window.mainloop()"
   ]
  },
  {
   "cell_type": "markdown",
   "metadata": {},
   "source": [
    "## Konfiguration des Widgets"
   ]
  },
  {
   "cell_type": "code",
   "execution_count": 4,
   "metadata": {},
   "outputs": [
    {
     "name": "stdout",
     "output_type": "stream",
     "text": [
      "['activebackground', 'activeforeground', 'anchor', 'background', 'bd', 'bg', 'bitmap', 'borderwidth', 'command', 'compound', 'cursor', 'default', 'disabledforeground', 'fg', 'font', 'foreground', 'height', 'highlightbackground', 'highlightcolor', 'highlightthickness', 'image', 'justify', 'overrelief', 'padx', 'pady', 'relief', 'repeatdelay', 'repeatinterval', 'state', 'takefocus', 'text', 'textvariable', 'underline', 'width', 'wraplength']\n",
      "red\n"
     ]
    }
   ],
   "source": [
    "import tkinter as tk\n",
    "window = tk.Tk()\n",
    "\n",
    "button = tk.Button(window, text=\"Hello World\", fg=\"white\", bg=\"red\", padx=30, pady=10)\n",
    "button.pack()\n",
    "\n",
    "print(button.keys())  # ['activebackground', 'activeforeground', 'anchor', ...]\n",
    "print(button.cget(\"bg\"))  # red\n",
    "button.config(bg=\"blue\")\n",
    "\n",
    "window.mainloop()"
   ]
  },
  {
   "cell_type": "markdown",
   "metadata": {},
   "source": [
    "## Pack Geometrie Manager"
   ]
  },
  {
   "cell_type": "code",
   "execution_count": 5,
   "metadata": {},
   "outputs": [],
   "source": [
    "import tkinter as tk\n",
    "\n",
    "window = tk.Tk()\n",
    "\n",
    "tk.Button(window, text=\"A\").pack(side=tk.LEFT, fill=tk.Y)\n",
    "tk.Button(window, text=\"B\").pack(side=tk.TOP, fill=tk.X)\n",
    "tk.Button(window, text=\"C\").pack(side=tk.RIGHT, fill=tk.NONE)\n",
    "tk.Button(window, text=\"D\").pack(side=tk.TOP, fill=tk.BOTH)\n",
    "\n",
    "window.mainloop()"
   ]
  },
  {
   "cell_type": "markdown",
   "metadata": {},
   "source": [
    "## Reihenfolge im Pack Geometrie Manager ist relevant"
   ]
  },
  {
   "cell_type": "code",
   "execution_count": null,
   "metadata": {},
   "outputs": [],
   "source": [
    "import tkinter as tk\n",
    "\n",
    "window = tk.Tk()\n",
    "\n",
    "tk.Button(window, text=\"C\").pack(side=tk.RIGHT, fill=tk.NONE)\n",
    "tk.Button(window, text=\"A\").pack(side=tk.LEFT, fill=tk.Y)\n",
    "tk.Button(window, text=\"B\").pack(side=tk.TOP, fill=tk.X)\n",
    "tk.Button(window, text=\"D\").pack(side=tk.TOP, fill=tk.BOTH)\n",
    "\n",
    "window.mainloop()"
   ]
  },
  {
   "cell_type": "code",
   "execution_count": null,
   "metadata": {},
   "outputs": [],
   "source": [
    "import tkinter as tk\n",
    "\n",
    "window = tk.Tk()\n",
    "\n",
    "tk.Button(window, text=\"A\").pack(side=tk.LEFT, fill=tk.Y)\n",
    "tk.Button(window, text=\"C\").pack(side=tk.RIGHT, fill=tk.NONE)\n",
    "tk.Button(window, text=\"B\").pack(side=tk.TOP, fill=tk.X)\n",
    "tk.Button(window, text=\"D\").pack(side=tk.TOP, fill=tk.BOTH)\n",
    "\n",
    "window.mainloop()"
   ]
  },
  {
   "cell_type": "code",
   "execution_count": null,
   "metadata": {},
   "outputs": [],
   "source": [
    "import tkinter as tk\n",
    "\n",
    "window = tk.Tk()\n",
    "\n",
    "tk.Button(window, text=\"A\").pack(side=tk.LEFT, fill=tk.Y)\n",
    "tk.Button(window, text=\"B\").pack(side=tk.TOP, fill=tk.X)\n",
    "tk.Button(window, text=\"D\").pack(side=tk.TOP, fill=tk.BOTH)\n",
    "tk.Button(window, text=\"C\").pack(side=tk.RIGHT, fill=tk.NONE)\n",
    "\n",
    "window.mainloop()"
   ]
  },
  {
   "cell_type": "code",
   "execution_count": null,
   "metadata": {},
   "outputs": [],
   "source": []
  },
  {
   "cell_type": "code",
   "execution_count": null,
   "metadata": {},
   "outputs": [],
   "source": []
  }
 ],
 "metadata": {
  "kernelspec": {
   "display_name": "Python 3",
   "language": "python",
   "name": "python3"
  },
  "language_info": {
   "codemirror_mode": {
    "name": "ipython",
    "version": 3
   },
   "file_extension": ".py",
   "mimetype": "text/x-python",
   "name": "python",
   "nbconvert_exporter": "python",
   "pygments_lexer": "ipython3",
   "version": "3.8.3"
  }
 },
 "nbformat": 4,
 "nbformat_minor": 4
}
